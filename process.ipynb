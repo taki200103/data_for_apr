{
 "cells": [
  {
   "cell_type": "code",
   "execution_count": null,
   "metadata": {},
   "outputs": [],
   "source": [
    "# xóa hết chỉ giữ lại patches bên trong đó\n",
    "import os\n",
    "import shutil\n",
    "\n",
    "def remove_all_except_patches(src_dir):\n",
    "    # Duyệt qua tất cả các thư mục con trong src_dir\n",
    "    for subdir in os.listdir(src_dir):\n",
    "        subdir_path = os.path.join(src_dir, subdir)\n",
    "\n",
    "        # Kiểm tra nếu là thư mục\n",
    "        if os.path.isdir(subdir_path):\n",
    "            # Duyệt qua tất cả các thư mục con và file bên trong thư mục con\n",
    "            for item in os.listdir(subdir_path):\n",
    "                item_path = os.path.join(subdir_path, item)\n",
    "\n",
    "                # Nếu item không phải là thư mục 'patches', xóa nó\n",
    "                if item != 'patches':\n",
    "                    if os.path.isdir(item_path):\n",
    "                        shutil.rmtree(item_path)\n",
    "                        print(f\"Deleted directory: {item_path}\")\n",
    "                    elif os.path.isfile(item_path):\n",
    "                        os.remove(item_path)\n",
    "                        print(f\"Deleted file: {item_path}\")\n",
    "\n",
    "# Sử dụng hàm này\n",
    "src_directory = r\"D:\\data\"\n",
    "\n",
    "remove_all_except_patches(src_directory)\n"
   ]
  },
  {
   "cell_type": "code",
   "execution_count": 5,
   "metadata": {},
   "outputs": [
    {
     "name": "stdout",
     "output_type": "stream",
     "text": [
      "Deleted directory: D:\\data\\Chart\\patches\n",
      "Deleted directory: D:\\data\\Cli\\patches\n",
      "Deleted directory: D:\\data\\Closure\\patches\n",
      "Deleted directory: D:\\data\\Codec\\patches\n",
      "Deleted directory: D:\\data\\Collections\\patches\n",
      "Deleted directory: D:\\data\\Compress\\patches\n",
      "Deleted directory: D:\\data\\Csv\\patches\n",
      "Deleted directory: D:\\data\\Gson\\patches\n",
      "Deleted directory: D:\\data\\JacksonCore\\patches\n",
      "Deleted directory: D:\\data\\JacksonDatabind\\patches\n",
      "Deleted directory: D:\\data\\JacksonXml\\patches\n",
      "Deleted directory: D:\\data\\Jsoup\\patches\n",
      "Deleted directory: D:\\data\\JxPath\\patches\n",
      "Deleted directory: D:\\data\\Lang\\patches\n",
      "Deleted directory: D:\\data\\Math\\patches\n",
      "Deleted directory: D:\\data\\Mockito\\patches\n",
      "Deleted directory: D:\\data\\Time\\patches\n"
     ]
    }
   ],
   "source": [
    "import os\n",
    "import shutil\n",
    "\n",
    "def move_patch_files_and_remove_patches(src_dir):\n",
    "    # Duyệt qua tất cả các thư mục con trong src_dir\n",
    "    for subdir in os.listdir(src_dir):\n",
    "        subdir_path = os.path.join(src_dir, subdir)\n",
    "\n",
    "        # Kiểm tra nếu là thư mục\n",
    "        if os.path.isdir(subdir_path):\n",
    "            patches_dir = os.path.join(subdir_path, 'patches')\n",
    "            \n",
    "            # Kiểm tra nếu thư mục 'patches' tồn tại\n",
    "            if os.path.exists(patches_dir) and os.path.isdir(patches_dir):\n",
    "                # Duyệt qua các file trong thư mục 'patches'\n",
    "                for file_name in os.listdir(patches_dir):\n",
    "                    # Kiểm tra file có đuôi .src.patch\n",
    "                    if file_name.endswith('.src.patch'):\n",
    "                        src_file = os.path.join(patches_dir, file_name)\n",
    "                        dest_file = os.path.join(subdir_path, file_name)\n",
    "\n",
    "                        # Di chuyển file ra thư mục cha\n",
    "                        shutil.move(src_file, dest_file)\n",
    "                        print(f\"Moved {src_file} to {dest_file}\")\n",
    "\n",
    "                # Xóa thư mục 'patches' sau khi đã di chuyển file\n",
    "                shutil.rmtree(patches_dir)\n",
    "                print(f\"Deleted directory: {patches_dir}\")\n",
    "\n",
    "# Sử dụng hàm này\n",
    "src_directory = r\"D:\\data\"\n",
    "\n",
    "move_patch_files_and_remove_patches(src_directory)\n"
   ]
  },
  {
   "cell_type": "code",
   "execution_count": null,
   "metadata": {},
   "outputs": [],
   "source": []
  },
  {
   "cell_type": "code",
   "execution_count": null,
   "metadata": {},
   "outputs": [],
   "source": []
  },
  {
   "cell_type": "code",
   "execution_count": null,
   "metadata": {},
   "outputs": [],
   "source": []
  },
  {
   "cell_type": "code",
   "execution_count": null,
   "metadata": {},
   "outputs": [],
   "source": []
  },
  {
   "cell_type": "code",
   "execution_count": null,
   "metadata": {},
   "outputs": [],
   "source": []
  }
 ],
 "metadata": {
  "kernelspec": {
   "display_name": "Python 3",
   "language": "python",
   "name": "python3"
  },
  "language_info": {
   "codemirror_mode": {
    "name": "ipython",
    "version": 3
   },
   "file_extension": ".py",
   "mimetype": "text/x-python",
   "name": "python",
   "nbconvert_exporter": "python",
   "pygments_lexer": "ipython3",
   "version": "3.12.4"
  }
 },
 "nbformat": 4,
 "nbformat_minor": 2
}
